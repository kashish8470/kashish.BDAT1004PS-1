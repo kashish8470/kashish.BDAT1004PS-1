{
 "cells": [
  {
   "cell_type": "markdown",
   "id": "7b50c9eb",
   "metadata": {},
   "source": [
    "# Problem set-1"
   ]
  },
  {
   "cell_type": "markdown",
   "id": "de6f4156",
   "metadata": {},
   "source": [
    "### Solution 1"
   ]
  },
  {
   "cell_type": "code",
   "execution_count": 2,
   "id": "ea9c0bfe",
   "metadata": {},
   "outputs": [
    {
     "ename": "NameError",
     "evalue": "name 'Console' is not defined",
     "output_type": "error",
     "traceback": [
      "\u001b[1;31m---------------------------------------------------------------------------\u001b[0m",
      "\u001b[1;31mNameError\u001b[0m                                 Traceback (most recent call last)",
      "Cell \u001b[1;32mIn[2], line 1\u001b[0m\n\u001b[1;32m----> 1\u001b[0m \u001b[43mConsole\u001b[49m\u001b[38;5;241m.\u001b[39mWriteLine(\u001b[38;5;124m\"\u001b[39m\u001b[38;5;124m1. Integer (whole number\u001b[39m\u001b[38;5;124m\"\u001b[39m);\n\u001b[0;32m      2\u001b[0m Console\u001b[38;5;241m.\u001b[39mWriteLine(\u001b[38;5;124m\"\u001b[39m\u001b[38;5;124m2. 5.0- Floating Point Number\u001b[39m\u001b[38;5;124m\"\u001b[39m);\n\u001b[0;32m      3\u001b[0m Console\u001b[38;5;241m.\u001b[39mWriteLine(\u001b[38;5;124m\"\u001b[39m\u001b[38;5;124m3. 5>1- Boolean\u001b[39m\u001b[38;5;124m\"\u001b[39m);\n",
      "\u001b[1;31mNameError\u001b[0m: name 'Console' is not defined"
     ]
    }
   ],
   "source": [
    "Console.WriteLine(\"1. Integer (whole number\");\n",
    "Console.WriteLine(\"2. 5.0- Floating Point Number\");\n",
    "Console.WriteLine(\"3. 5>1- Boolean\");\n",
    "Console.WriteLine(\"4. Character\");\n",
    "Console.WriteLine(\"5. Integer\");\n",
    "Console.WriteLine(\"6. Character\");\n",
    "Console.WriteLine(\"7. character\");\n",
    "Console.WriteLine(\"8. Float\");\n",
    "Console.WriteLine(\"9. Integer\");\n",
    "Console.WriteLine(\"10. List\");\n",
    "Console.WriteLine(\"11. Boolean\");\n",
    "Console.WriteLine(\"12. Decimal\");"
   ]
  },
  {
   "cell_type": "markdown",
   "id": "ac598123",
   "metadata": {},
   "source": [
    "Expected Output:\n",
    "\n",
    "1. Integer (whole number\n",
    "2. 5.0- Floating Point Number\n",
    "3. 5>1- Boolean\n",
    "4. Character\n",
    "5. Integer\n",
    "6. Character\n",
    "7. character\n",
    "8. Float\n",
    "9. Integer\n",
    "10. List\n",
    "11. Boolean\n",
    "12. Decimal"
   ]
  },
  {
   "cell_type": "markdown",
   "id": "91021b6f",
   "metadata": {},
   "source": [
    "### Solution-2"
   ]
  },
  {
   "cell_type": "code",
   "execution_count": null,
   "id": "ef43ebfa",
   "metadata": {},
   "outputs": [],
   "source": [
    "/* a: checking the number of letters in the given string */\n",
    "\n",
    "string word = \"Supercalifragilisticexpialidocious\";\n",
    "    int no_of_letters = word.Length;\n",
    "Console.WriteLine(\"a. \" + word + \" contains \" + no_of_letters + \" letters.\");\n",
    "\n",
    "/* b: checking if the above string contains \"ice\" as a substring */\n",
    "string s1 = \"ice\";\n",
    "Console.WriteLine(\"b. Does \" + word + \" contains 'ice' as a substring?\");\n",
    "Console.WriteLine(word.Contains(s1));\n",
    "\n",
    "/* c: which of the following of the three words is longest? */\n",
    "string word1 = \"Supercalifragilisticexpialidocious\";\n",
    "string word2 = \"Honorificabilitudinitatibus\";\n",
    "string word3 = \"Bababadalgharaghtakamminarronnkonn\";\n",
    "\n",
    "int length_word1 = word1.Length;\n",
    "int length_word2 = word2.Length;\n",
    "int length_word3 = word3.Length;\n",
    "\n",
    "Console.WriteLine(length_word1 > length_word2);  /* checking if length of word 2 is greater than word 2 */\n",
    "Console.WriteLine(length_word1 > length_word3);  /* checking if length of word 1 is greater than word 3 */\n",
    "Console.WriteLine(\"c. The length of \" + word3 + \" is the longest among the three words which is \" + word3.Length + \" letters.\");\n",
    "\n",
    "/*d: which comes first among the following words? */\n",
    "var composer = new SortedSet<string>();\n",
    "    composer.Add(\"Berlioz\");\n",
    "composer.Add(\"Borodin\");\n",
    "composer.Add(\"Brian\");\n",
    "composer.Add(\"Bartok\");\n",
    "composer.Add(\"Bellini\");\n",
    "composer.Add(\"Buxtehude\");\n",
    "composer.Add(\"Bernstein\");\n",
    "Console.WriteLine(\"d. The names of composer as they'll appear in the dictionary are: \");\n",
    "foreach (var composer_name in composer)\n",
    "{\n",
    "    Console.WriteLine(composer_name);\n",
    "}\n",
    "\n",
    "Console.WriteLine(\"The first name is Bartok and the last name is Buxtehude\");"
   ]
  },
  {
   "cell_type": "markdown",
   "id": "42cdab8d",
   "metadata": {},
   "source": [
    "Expected Output:\n",
    "\n",
    "a. Supercalifragilisticexpialidocious contains 34 letters.\n",
    "b. Does Supercalifragilisticexpialidocious contains 'ice' as a substring?\n",
    "True\n",
    "True\n",
    "False\n",
    "c. The length of Bababadalgharaghtakamminarronnkonn is the longest among the three words which is 34 letters.\n",
    "d. The names of composer as they'll appear in the dictionary are: \n",
    "Bartok\n",
    "Bellini\n",
    "Berlioz\n",
    "Bernstein\n",
    "Borodin\n",
    "Brian\n",
    "Buxtehude\n",
    "The first name is Bartok and the last name is Buxtehude"
   ]
  },
  {
   "cell_type": "markdown",
   "id": "5cfc72a2",
   "metadata": {},
   "source": [
    "### Solution 3"
   ]
  },
  {
   "cell_type": "code",
   "execution_count": null,
   "id": "a1cd1c0b",
   "metadata": {},
   "outputs": [],
   "source": [
    "/* 3 */\n",
    "\n",
    "       //TriangleArea function\n",
    "        double area = triangleArea(2, 2, 2);\n",
    "        Console.WriteLine(\"Area of the triangle: \" + area);\n",
    "    \n",
    "\n",
    "    static double triangleArea(double a, double b, double c)\n",
    "    {\n",
    "        double s = (a + b + c) / 2;   // Calculating the semi-perimeter here\n",
    "        double area = Math.Sqrt(s * (s - a) * (s - b) * (s - c)); // Applying Heron's formula\n",
    "        return area;\n",
    "    }"
   ]
  },
  {
   "cell_type": "markdown",
   "id": "ce608613",
   "metadata": {},
   "source": [
    "Expected Output:\n",
    "\n",
    "Area of the triangle: 1.7320508075688772"
   ]
  },
  {
   "cell_type": "markdown",
   "id": "3097eddb",
   "metadata": {},
   "source": [
    "### Solution 4"
   ]
  },
  {
   "cell_type": "code",
   "execution_count": null,
   "id": "7a19a5aa",
   "metadata": {},
   "outputs": [],
   "source": [
    "/* 4 */\n",
    " int[] numbers = new int[5];\n",
    "        numbers[0] = 25;\n",
    "        numbers[1] = 47;\n",
    "        numbers[2] = 42;\n",
    "        numbers[3] = 56;\n",
    "        numbers[4] = 32;\n",
    "\n",
    "int[] evenNumbers;\n",
    "int[] oddNumbers;\n",
    "        int evenCount = 0;\n",
    "        int oddCount = 0;\n",
    "\n",
    "        // Count the number of even and odd numbers\n",
    "        foreach (int num in numbers)\n",
    "        {\n",
    "            if (num % 2 == 0)\n",
    "                evenCount++;\n",
    "            else\n",
    "                oddCount++;\n",
    "        }\n",
    " // Initializing arrays with the respective counts\n",
    "        evenNumbers = new int[evenCount];\n",
    "        oddNumbers = new int[oddCount];\n",
    "\n",
    "        int evenIndex = 0;\n",
    "        int oddIndex = 0;\n",
    "\n",
    "        foreach (int num in numbers)\n",
    "        {\n",
    "            if (num % 2 == 0)\n",
    "            {\n",
    "                evenNumbers[evenIndex] = num;\n",
    "                evenIndex++;\n",
    "            }\n",
    "            else\n",
    "            {\n",
    "                oddNumbers[oddIndex] = num;\n",
    "                oddIndex++;\n",
    "            }\n",
    "        }\n",
    "// Displaying the even numbers\n",
    "        Console.WriteLine(\"Even numbers:\");\n",
    "        foreach (int num in evenNumbers)\n",
    "        {\n",
    "            Console.WriteLine(num);\n",
    "        }\n",
    "\n",
    "        // Displaying the odd numbers\n",
    "        Console.WriteLine(\"Odd numbers:\");\n",
    "        foreach (int num in oddNumbers)\n",
    "        {\n",
    "            Console.WriteLine(num);\n",
    "        }\n"
   ]
  },
  {
   "cell_type": "markdown",
   "id": "3815cec4",
   "metadata": {},
   "source": [
    "Expected Output:\n",
    "\n",
    "Even numbers:\n",
    "42\n",
    "56\n",
    "32\n",
    "Odd numbers:\n",
    "25\n",
    "47\n",
    "Sol"
   ]
  },
  {
   "cell_type": "markdown",
   "id": "5263cb99",
   "metadata": {},
   "source": [
    "### Solution-5"
   ]
  },
  {
   "cell_type": "code",
   "execution_count": null,
   "id": "c94e46c7",
   "metadata": {},
   "outputs": [],
   "source": [
    "/* a. */\n",
    "\n",
    "bool inside(int x, int y, int x1, int y1, int x2, int y2)\n",
    "{\n",
    "    if (x >= x1 && x <= x2 && y >= y1 && y <= y2)\n",
    "    {\n",
    "        return true;\n",
    "    }\n",
    "    else\n",
    "    {\n",
    "        return false;\n",
    "    }\n",
    "}\n",
    "\n",
    "Console.WriteLine(inside(1, 1, 0, 0, 2, 3));\n",
    "Console.WriteLine(inside(-1, -1, 0, 0, 2, 3))"
   ]
  },
  {
   "cell_type": "markdown",
   "id": "8d8f0ebd",
   "metadata": {},
   "source": [
    "Expected Output:\n",
    "\n",
    "True\n",
    "False"
   ]
  },
  {
   "cell_type": "code",
   "execution_count": null,
   "id": "41e41569",
   "metadata": {},
   "outputs": [],
   "source": [
    "/* b. */\n",
    "\n",
    "bool isInsideBothRectangles = inside(1, 1, 0.3, 0.5, 1.1, 0.7) && inside(1, 1, 0.5, 0.2, 1.1, 2);\n",
    "if (isInsideBothRectangles)\n",
    "{\n",
    "    Console.WriteLine(\"The point (1, 1) lies in both rectangles.\");\n",
    "}\n",
    "else\n",
    "{\n",
    "    Console.WriteLine(\"The point (1, 1) does not lie in both rectangles.\");\n",
    "}\n",
    "\n"
   ]
  },
  {
   "cell_type": "markdown",
   "id": "7b4fba9c",
   "metadata": {},
   "source": [
    "Expected Output:\n",
    "\n",
    "The point (1, 1) does not lie in both rectangles."
   ]
  },
  {
   "cell_type": "markdown",
   "id": "ca48c510",
   "metadata": {},
   "source": [
    "### Solution 6"
   ]
  },
  {
   "cell_type": "code",
   "execution_count": 32,
   "id": "2accd633",
   "metadata": {
    "scrolled": true
   },
   "outputs": [
    {
     "name": "stdout",
     "output_type": "stream",
     "text": [
      "appyhay\n",
      "enterway\n"
     ]
    }
   ],
   "source": [
    "def piglatin(word):   #defining a function pig that will take the string\n",
    "    vowels = ['a', 'e', 'i', 'o', 'u']\n",
    "    word= word.lower()     #converting the word to lowercase as the output should be lower case\n",
    "    \n",
    "    if word[0] in vowels:\n",
    "        pig = word + 'way'   #if the word starts with a vowel,append 'way' at the end\n",
    "    else:\n",
    "            pig = word[1:] + word[0] + 'ay'  #if the word starts with a conosnant,move the first letter to the last and add 'ay' at the end\n",
    "            \n",
    "    return pig\n",
    "print(piglatin('happy'))\n",
    "print(piglatin('Enter'))\n",
    "\n",
    "    "
   ]
  },
  {
   "cell_type": "markdown",
   "id": "682bf5a0",
   "metadata": {},
   "source": [
    "### Solution 7"
   ]
  },
  {
   "cell_type": "code",
   "execution_count": 71,
   "id": "294809c3",
   "metadata": {},
   "outputs": [
    {
     "name": "stdout",
     "output_type": "stream",
     "text": [
      "There are 0 patients of blood type OO\n",
      "There are 1 patients of blood type B\n",
      "There are 15 patients of blood type A\n",
      "There are 15 patients of blood type O\n",
      "There are 13 patients of blood type AB\n"
     ]
    }
   ],
   "source": [
    "file_path = open('C:\\\\Users\\\\kashi\\\\Downloads\\\\bloodtype1.txt')  #open the file bloodtype.txt from the system\n",
    "def bldcount(file_path):      #defining a function 'bldcount' that reads the file\n",
    "    blood_types = {'A', 'B', 'O', 'AB', 'OO'}   #defining variable that stores all the bloodtypes\n",
    "    counts = {}    #defining a variable that will store the countof each bloodtype\n",
    "    \n",
    "    file = open(file_path, 'r')\n",
    "    data = file.read().split()     #reading and splitting the text from the file\n",
    "    file.close()\n",
    "        \n",
    "    for bloodtype in blood_types:         #creating a loop which reads every bloodtype and counts the occurrence of it in the file\n",
    "        counts[bloodtype] = data.count(bloodtype)\n",
    "        \n",
    "    for bloodtype, count in counts.items():      #creating a loop which reads all the count values corresponding to each blood type using 'items().'\n",
    "        print(\"There are \" + str(count) + \" patients of blood type \" + bloodtype)\n",
    "        \n",
    "bldcount('C:\\\\Users\\\\kashi\\\\Downloads\\\\bloodtype1.txt')\n",
    "\n",
    "\n"
   ]
  },
  {
   "cell_type": "markdown",
   "id": "246cf557",
   "metadata": {},
   "source": [
    "### Solution 9"
   ]
  },
  {
   "cell_type": "code",
   "execution_count": 4,
   "id": "93694e24",
   "metadata": {},
   "outputs": [
    {
     "name": "stdout",
     "output_type": "stream",
     "text": [
      "1. Type Error, since we are adding two objects of different types.\n",
      "2. Index Error, since as we are trying to access the 12th item however the list only has 10 items. Therefore, the value we are looking for is out of the index.\n",
      "3. Value Error, since the value is invalid as the sqrt function needs a positive value.\n",
      "4. Name Error, since x is an unassigned identifier\n",
      "5. IO Error\n"
     ]
    }
   ],
   "source": [
    "# a. Trying to add incompatible variables, as in adding 6 + ‘a’\n",
    "print(\"1. Type Error, since we are adding two objects of different types.\")\n",
    "\n",
    "#b. Referring to the 12th item of a list that has only 10 items\n",
    "print(\"2. Index Error, since as we are trying to access the 12th item however the list only has 10 items. Therefore, the value we are looking for is out of the index.\")\n",
    "\n",
    "#c. Using a value that is out of range for a function’s input, such as calling math.sqrt(-1.0)\n",
    "print(\"3. Value Error, since the value is invalid as the sqrt function needs a positive value.\")\n",
    "\n",
    "#d. Using an undeclared variable, such as print(x) when x has not been defined \n",
    "print(\"4. Name Error, since x is an unassigned identifier\")\n",
    "\n",
    "#e. Trying to open a file that does not exist, such as mistyping the file name or looking in the wrong directory. \n",
    "print(\"5. IO Error\")\n",
    "\n",
    "\n"
   ]
  },
  {
   "cell_type": "markdown",
   "id": "0d2e7274",
   "metadata": {},
   "source": [
    "### Solution-10"
   ]
  },
  {
   "cell_type": "code",
   "execution_count": 70,
   "id": "d0ac7d4c",
   "metadata": {},
   "outputs": [
    {
     "name": "stdout",
     "output_type": "stream",
     "text": [
      "[1, 1, 1, 3, 5, 1, 1, 2, 1, 0, 1, 0, 1, 2, 4, 0, 1, 2, 0, 3, 1, 0, 1, 1, 0, 0]\n",
      "[1, 0, 0, 0, 1, 0, 0, 0, 0, 0, 0, 1, 0, 0, 0, 2, 0, 0, 0, 0, 0, 0, 0, 0, 0, 0]\n"
     ]
    }
   ],
   "source": [
    "def frequencies(text):       #defining a function frequencies which will take string as input\n",
    "    letters = 'abcdefghijklmnopqrstuvwxyz'\n",
    "    freq_list = [0] * 26   #initializing a list of integers\n",
    "\n",
    "    for char in text.lower():  #Converting the text to lowercase and creating a loop to iterate over each character\n",
    "        if char in letters:\n",
    "            index = letters.index(char)      #using this to get the index of the characters\n",
    "            freq_list[index] += 1           #this keeps adding to the corresponding count in the frequency list\n",
    "    \n",
    "    return freq_list\n",
    "\n",
    "result = frequencies(\"The quick red fox got bored and went home.\")\n",
    "print(result)\n",
    "\n",
    "result = frequencies(\"Apple\")\n",
    "print(result)"
   ]
  },
  {
   "cell_type": "code",
   "execution_count": null,
   "id": "f7facb71",
   "metadata": {},
   "outputs": [],
   "source": []
  }
 ],
 "metadata": {
  "kernelspec": {
   "display_name": "Python 3 (ipykernel)",
   "language": "python",
   "name": "python3"
  },
  "language_info": {
   "codemirror_mode": {
    "name": "ipython",
    "version": 3
   },
   "file_extension": ".py",
   "mimetype": "text/x-python",
   "name": "python",
   "nbconvert_exporter": "python",
   "pygments_lexer": "ipython3",
   "version": "3.10.9"
  }
 },
 "nbformat": 4,
 "nbformat_minor": 5
}
